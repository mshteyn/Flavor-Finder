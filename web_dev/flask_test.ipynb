{
 "cells": [
  {
   "cell_type": "code",
   "execution_count": 8,
   "metadata": {},
   "outputs": [],
   "source": [
    "# from flask import Flask, url_for\n",
    "\n",
    "# app = Flask(__name__)\n",
    "\n",
    "# @app.route('/')\n",
    "# def index():\n",
    "#  return \"This is a basic flask application\"\n",
    "\n",
    "# @app.route('/authors/<username>')\n",
    "# def show_author(username):\n",
    "#   return f\"Return the author profile of {username}\"\n",
    "\n",
    "# @app.route('/post/<int:post_id>/<slug>')\n",
    "# def show_post(post_id):\n",
    "#  return f\"Showing post with ID: {post_id}\"\n",
    "\n",
    "# if __name__ == '__main__':\n",
    "#     with app.test_request_context():\n",
    "#    # Generate URLs using url_for()\n",
    "#         home_url = url_for('index')\n",
    "#         profile_url = url_for('show_author', username='antony')\n",
    "#         post_url = url_for('show_post', post_id=456, slug='flask-intro' )\n",
    "\n",
    "#         print(\"Generated URLs:\")\n",
    "#         print(\"Home URL:\", home_url)\n",
    "#         print(\"Author profile URL:\", profile_url)\n",
    "#         print(\"Post URL:\", post_url)"
   ]
  },
  {
   "cell_type": "code",
   "execution_count": 6,
   "metadata": {},
   "outputs": [
    {
     "name": "stdout",
     "output_type": "stream",
     "text": [
      " * Serving Flask app '__main__'\n",
      " * Debug mode: off\n"
     ]
    },
    {
     "name": "stderr",
     "output_type": "stream",
     "text": [
      "\u001b[31m\u001b[1mWARNING: This is a development server. Do not use it in a production deployment. Use a production WSGI server instead.\u001b[0m\n",
      " * Running on http://127.0.0.1:5000\n",
      "\u001b[33mPress CTRL+C to quit\u001b[0m\n",
      "[2024-05-22 07:10:13,355] ERROR in app: Exception on / [GET]\n",
      "Traceback (most recent call last):\n",
      "  File \"/Users/administration/anaconda3/envs/erdos_may_2024/lib/python3.11/site-packages/flask/app.py\", line 1473, in wsgi_app\n",
      "    response = self.full_dispatch_request()\n",
      "               ^^^^^^^^^^^^^^^^^^^^^^^^^^^^\n",
      "  File \"/Users/administration/anaconda3/envs/erdos_may_2024/lib/python3.11/site-packages/flask/app.py\", line 882, in full_dispatch_request\n",
      "    rv = self.handle_user_exception(e)\n",
      "         ^^^^^^^^^^^^^^^^^^^^^^^^^^^^^\n",
      "  File \"/Users/administration/anaconda3/envs/erdos_may_2024/lib/python3.11/site-packages/flask/app.py\", line 880, in full_dispatch_request\n",
      "    rv = self.dispatch_request()\n",
      "         ^^^^^^^^^^^^^^^^^^^^^^^\n",
      "  File \"/Users/administration/anaconda3/envs/erdos_may_2024/lib/python3.11/site-packages/flask/app.py\", line 865, in dispatch_request\n",
      "    return self.ensure_sync(self.view_functions[rule.endpoint])(**view_args)  # type: ignore[no-any-return]\n",
      "           ^^^^^^^^^^^^^^^^^^^^^^^^^^^^^^^^^^^^^^^^^^^^^^^^^^^^^^^^^^^^^^^^^\n",
      "  File \"/var/folders/pp/2ghdfq4j51q65hs84_1zmlym0000gn/T/ipykernel_50587/2863718335.py\", line 14, in index\n",
      "    return render_template(\"index.html\")\n",
      "           ^^^^^^^^^^^^^^^^^^^^^^^^^^^^^\n",
      "  File \"/Users/administration/anaconda3/envs/erdos_may_2024/lib/python3.11/site-packages/flask/templating.py\", line 149, in render_template\n",
      "    template = app.jinja_env.get_or_select_template(template_name_or_list)\n",
      "               ^^^^^^^^^^^^^^^^^^^^^^^^^^^^^^^^^^^^^^^^^^^^^^^^^^^^^^^^^^^\n",
      "  File \"/Users/administration/anaconda3/envs/erdos_may_2024/lib/python3.11/site-packages/jinja2/environment.py\", line 1084, in get_or_select_template\n",
      "    return self.get_template(template_name_or_list, parent, globals)\n",
      "           ^^^^^^^^^^^^^^^^^^^^^^^^^^^^^^^^^^^^^^^^^^^^^^^^^^^^^^^^^\n",
      "  File \"/Users/administration/anaconda3/envs/erdos_may_2024/lib/python3.11/site-packages/jinja2/environment.py\", line 1013, in get_template\n",
      "    return self._load_template(name, globals)\n",
      "           ^^^^^^^^^^^^^^^^^^^^^^^^^^^^^^^^^^\n",
      "  File \"/Users/administration/anaconda3/envs/erdos_may_2024/lib/python3.11/site-packages/jinja2/environment.py\", line 972, in _load_template\n",
      "    template = self.loader.load(self, name, self.make_globals(globals))\n",
      "               ^^^^^^^^^^^^^^^^^^^^^^^^^^^^^^^^^^^^^^^^^^^^^^^^^^^^^^^^\n",
      "  File \"/Users/administration/anaconda3/envs/erdos_may_2024/lib/python3.11/site-packages/jinja2/loaders.py\", line 126, in load\n",
      "    source, filename, uptodate = self.get_source(environment, name)\n",
      "                                 ^^^^^^^^^^^^^^^^^^^^^^^^^^^^^^^^^^\n",
      "  File \"/Users/administration/anaconda3/envs/erdos_may_2024/lib/python3.11/site-packages/flask/templating.py\", line 65, in get_source\n",
      "    return self._get_source_fast(environment, template)\n",
      "           ^^^^^^^^^^^^^^^^^^^^^^^^^^^^^^^^^^^^^^^^^^^^\n",
      "  File \"/Users/administration/anaconda3/envs/erdos_may_2024/lib/python3.11/site-packages/flask/templating.py\", line 99, in _get_source_fast\n",
      "    raise TemplateNotFound(template)\n",
      "jinja2.exceptions.TemplateNotFound: index.html\n",
      "127.0.0.1 - - [22/May/2024 07:10:13] \"\u001b[35m\u001b[1mGET / HTTP/1.1\u001b[0m\" 500 -\n"
     ]
    }
   ],
   "source": [
    "from flask import Flask, render_template, request, jsonify\n",
    "\n",
    "from transformers import AutoModelForCausalLM, AutoTokenizer\n",
    "import torch\n",
    "\n",
    "\n",
    "tokenizer = AutoTokenizer.from_pretrained(\"microsoft/DialoGPT-medium\")\n",
    "model = AutoModelForCausalLM.from_pretrained(\"microsoft/DialoGPT-medium\")\n",
    "\n",
    "app = Flask(__name__)\n",
    "@app.route(\"/\")\n",
    "def index():\n",
    "  #return \"Hello, This is Flask Application\"\n",
    "  return render_template(\"index.html\")\n",
    "\n",
    "app.route(\"/get\", ethods=[\"GET\",\"POST\"])\n",
    "def chat():\n",
    "  msg=request.form[\"msg\"]\n",
    "  input=msg\n",
    "  return get_Chat_response(input)\n",
    "\n",
    "def get_Chat_response(text):\n",
    "\n",
    "# Let's chat for 5 lines\n",
    "  for step in range(5):\n",
    "      # encode the new user input, add the eos_token and return a tensor in Pytorch\n",
    "      new_user_input_ids = tokenizer.encode(input(\">> User:\") + tokenizer.eos_token, return_tensors='pt')\n",
    "\n",
    "      # append the new user input tokens to the chat history\n",
    "      bot_input_ids = torch.cat([chat_history_ids, new_user_input_ids], dim=-1) if step > 0 else new_user_input_ids\n",
    "\n",
    "      # generated a response while limiting the total chat history to 1000 tokens, \n",
    "      chat_history_ids = model.generate(bot_input_ids, max_length=1000, pad_token_id=tokenizer.eos_token_id)\n",
    "\n",
    "      # pretty print last ouput tokens from bot\n",
    "      print(\"DialoGPT: {}\".format(tokenizer.decode(chat_history_ids[:, bot_input_ids.shape[-1]:][0], skip_special_tokens=True)))\n",
    "\n",
    "if __name__ == \"__main__\":\n",
    "  app.run()"
   ]
  },
  {
   "cell_type": "code",
   "execution_count": 4,
   "metadata": {},
   "outputs": [],
   "source": [
    "import torch"
   ]
  }
 ],
 "metadata": {
  "kernelspec": {
   "display_name": "erdos_may_2024",
   "language": "python",
   "name": "python3"
  },
  "language_info": {
   "codemirror_mode": {
    "name": "ipython",
    "version": 3
   },
   "file_extension": ".py",
   "mimetype": "text/x-python",
   "name": "python",
   "nbconvert_exporter": "python",
   "pygments_lexer": "ipython3",
   "version": "3.11.9"
  }
 },
 "nbformat": 4,
 "nbformat_minor": 2
}

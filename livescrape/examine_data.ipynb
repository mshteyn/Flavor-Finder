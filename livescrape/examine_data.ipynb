{
 "cells": [
  {
   "cell_type": "code",
   "execution_count": 84,
   "metadata": {},
   "outputs": [
    {
     "name": "stdout",
     "output_type": "stream",
     "text": [
      "1        https://www.google.com/maps/place//data=!4m2!3...\n",
      "47       https://www.google.com/maps/place//data=!4m2!3...\n",
      "168      https://www.google.com/maps/place//data=!4m2!3...\n",
      "250      https://www.google.com/maps/place//data=!4m2!3...\n",
      "313      https://www.google.com/maps/place//data=!4m2!3...\n",
      "                               ...                        \n",
      "10740    https://www.google.com/maps/place//data=!4m2!3...\n",
      "10833    https://www.google.com/maps/place//data=!4m2!3...\n",
      "10853    https://www.google.com/maps/place//data=!4m2!3...\n",
      "10913    https://www.google.com/maps/place//data=!4m2!3...\n",
      "10951    https://www.google.com/maps/place//data=!4m2!3...\n",
      "Name: url, Length: 261, dtype: object\n"
     ]
    }
   ],
   "source": [
    "import pandas as pd \n",
    "reviews_path  = \"reviews_cali_json\"\n",
    "metadata_path = \"metadata_cali_json\"\n",
    "\n",
    "#Specify chunksize parameter\n",
    "\n",
    "SIZE = 1000\n",
    "NUM_CHUNKS= int(10)\n",
    "metadata_reader = pd.read_json(metadata_path,orient = \"records\",lines= True,chunksize = SIZE) \n",
    "\n",
    "df_meta = pd.DataFrame() \n",
    "categories = set()\n",
    "\n",
    "for index,item in enumerate(metadata_reader):\n",
    "    item = item.dropna(subset = [\"category\"])\n",
    "    categories.update(set(map(lambda x: x[0], item[\"category\"].values )))\n",
    "    restaurants = item.loc[item[\"category\"].apply(lambda x: True if \"restaurant\" in x[0] else False)]\n",
    "    #print(restaurants)\n",
    "    #restaurants = item.loc[lambda x: True if \"restaurant\" in x[\"category\"][0] else False]\n",
    "    df_meta = pd.concat([df_meta,restaurants])\n",
    "    #Subset for restaurants only \n",
    "    #categories = categories + item[\"category\"].unique().values\n",
    "    # new_rest = item.loc[item[\"category\"].isin([\"restaurant\"])]\n",
    "    # if len(new_rest.index) == int(0):\n",
    "    #     df_meta = pd.concat([df_meta,new_rest],ignore_index = True)\n",
    "    if index >= NUM_CHUNKS:\n",
    "        break \n",
    "\n",
    "df_meta = df_meta.dropna(subset = [\"url\"])"
   ]
  },
  {
   "cell_type": "code",
   "execution_count": 99,
   "metadata": {},
   "outputs": [
    {
     "data": {
      "text/plain": [
       "'https://www.google.com/maps/place//data=!4m2!3m1!1s0x80c2c778e3b73d33:0xbdc58662a4a97d49?authuser=-1&hl=en&gl=us'"
      ]
     },
     "execution_count": 99,
     "metadata": {},
     "output_type": "execute_result"
    }
   ],
   "source": [
    "#Access the url and scrape a menu \n",
    "df_meta[\"url\"].iloc[0]\n"
   ]
  },
  {
   "cell_type": "code",
   "execution_count": null,
   "metadata": {},
   "outputs": [],
   "source": []
  }
 ],
 "metadata": {
  "kernelspec": {
   "display_name": "erdos_may_2024",
   "language": "python",
   "name": "python3"
  },
  "language_info": {
   "codemirror_mode": {
    "name": "ipython",
    "version": 3
   },
   "file_extension": ".py",
   "mimetype": "text/x-python",
   "name": "python",
   "nbconvert_exporter": "python",
   "pygments_lexer": "ipython3",
   "version": "3.12.3"
  }
 },
 "nbformat": 4,
 "nbformat_minor": 2
}

{
 "cells": [
  {
   "cell_type": "code",
   "execution_count": 1,
   "id": "b3f28bd3-b91e-41f7-8ee7-52efacbcd0a5",
   "metadata": {},
   "outputs": [],
   "source": [
    "#!pip install huggingface-hub\n",
    "from transformers import AutoTokenizer, AutoModelForTokenClassification\n",
    "from transformers import pipeline\n",
    "import pandas as pd\n",
    "\n",
    "tokenizer = AutoTokenizer.from_pretrained(\"Dizex/InstaFoodRoBERTa-NER\")\n",
    "model = AutoModelForTokenClassification.from_pretrained(\"Dizex/InstaFoodRoBERTa-NER\")\n",
    "\n",
    "# Initialize the NER pipeline\n",
    "ner_pipeline = pipeline(\"ner\", model=model, tokenizer=tokenizer)\n",
    "\n",
    "def contains_food_item(text):\n",
    "    \"\"\"\n",
    "    Function to check if a text contains any food item.\n",
    "    \"\"\"\n",
    "    # Get the NER results\n",
    "    ner_results = ner_pipeline(text)\n",
    "\n",
    "    # Check if any of the entities is a food item\n",
    "    for entity in ner_results:\n",
    "        if \"FOOD\" in entity['entity']:\n",
    "            return True\n",
    "    return False\n",
    "\n",
    "\n"
   ]
  },
  {
   "cell_type": "code",
   "execution_count": 4,
   "id": "63281b94-8918-44fc-82c2-3464e095d59e",
   "metadata": {},
   "outputs": [
    {
     "name": "stdout",
     "output_type": "stream",
     "text": [
      "Texts containing food items:\n",
      "We enjoyed a delicious pizza for dinner.\n",
      "They baked a wonderful chocolate cake.\n"
     ]
    }
   ],
   "source": [
    "# Example usage\n",
    "texts = [\n",
    "    \"I had a great time at the restaurant.\",\n",
    "    \"We enjoyed a delicious pizza for dinner.\",\n",
    "    \"The best meal ever.\",\n",
    "    \"They baked a wonderful chocolate cake.\"\n",
    "]\n",
    "\n",
    "# Identify strings containing food items\n",
    "food_texts = [text for text in texts if contains_food_item(text)]\n",
    "\n",
    "print(\"Texts containing food items:\")\n",
    "for text in food_texts:\n",
    "    print(text)"
   ]
  },
  {
   "cell_type": "code",
   "execution_count": null,
   "id": "bc0681ae-b794-45a6-ae91-ad0e870cdae5",
   "metadata": {},
   "outputs": [],
   "source": [
    "\n"
   ]
  },
  {
   "cell_type": "code",
   "execution_count": null,
   "id": "d2bc2914-a1c1-4710-992c-f1218fa8367b",
   "metadata": {},
   "outputs": [],
   "source": [
    "reviews_path = '/Users/andres/Documents/Flavor Finder data/restReviews.json'\n"
   ]
  },
  {
   "cell_type": "code",
   "execution_count": null,
   "id": "ad0e8c86-4860-47f4-9667-014492040fee",
   "metadata": {},
   "outputs": [],
   "source": [
    "#This takes a lot of time. \n",
    "chunk_size = 5000\n",
    "\n",
    "#List of chunks, to be join as one data frame after processing \n",
    "chunks = []\n",
    "\n",
    "#i = 0\n",
    "\n",
    "# Iterate over the JSON file in chunks\n",
    "for chunk in pd.read_json(reviews_path, lines=True, chunksize=chunk_size):\n",
    "    #i = i+1\n",
    "        \n",
    "    #filtering reviews with no food mentions\n",
    "    mask = chunk['text'].apply(lambda x: contains_food_item(x))\n",
    "    chunk = chunk[mask]\n",
    "    \n",
    "    chunks.append(chunk)\n",
    "    #print(i)\n",
    "    "
   ]
  },
  {
   "cell_type": "code",
   "execution_count": null,
   "id": "777eeaf1-97dd-480f-ad32-24f7afc699c0",
   "metadata": {},
   "outputs": [],
   "source": [
    "reviewsDF = pd.concat(chunks, ignore_index=True)"
   ]
  },
  {
   "cell_type": "code",
   "execution_count": null,
   "id": "965465dc-e133-463e-9c53-c047e50a56f8",
   "metadata": {},
   "outputs": [],
   "source": [
    "reviewsDF.to_json('/Users/andres/Documents/Flavor Finder data/cleanRestReviews.json', orient='records', lines=True)"
   ]
  },
  {
   "cell_type": "code",
   "execution_count": null,
   "id": "0ba0cb91-1323-4aa6-9d94-931a76d9029b",
   "metadata": {},
   "outputs": [],
   "source": []
  }
 ],
 "metadata": {
  "kernelspec": {
   "display_name": "Python 3 (ipykernel)",
   "language": "python",
   "name": "python3"
  },
  "language_info": {
   "codemirror_mode": {
    "name": "ipython",
    "version": 3
   },
   "file_extension": ".py",
   "mimetype": "text/x-python",
   "name": "python",
   "nbconvert_exporter": "python",
   "pygments_lexer": "ipython3",
   "version": "3.11.7"
  }
 },
 "nbformat": 4,
 "nbformat_minor": 5
}

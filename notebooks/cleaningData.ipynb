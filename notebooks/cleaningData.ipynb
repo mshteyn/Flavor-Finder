{
 "cells": [
  {
   "cell_type": "code",
   "execution_count": null,
   "id": "6355719d-9c07-4095-9a51-c01725125a62",
   "metadata": {},
   "outputs": [],
   "source": [
    "import pandas as pd"
   ]
  },
  {
   "cell_type": "code",
   "execution_count": null,
   "id": "eea34f3b-3f38-4cac-94de-42fa361c1161",
   "metadata": {},
   "outputs": [],
   "source": [
    "### Variables that you might want to modify:\n",
    "\n",
    "#local path for California's Google reviews and metadata downloaded from\n",
    "# https://datarepo.eng.ucsd.edu/mcauley_group/gdrive/googlelocal/#files\n",
    "reviews_path = '/Users/andres/Documents/Flavor Finder data/California Google Local Reviews.json'\n",
    "metadata_path = '/Users/andres/Documents/Flavor Finder data/California Local Reviews.json'\n",
    "\n",
    "\n",
    "#local folder path where you want your clean data to be saved\n",
    "FFreviews_path = '/Users/andres/Documents/Flavor Finder data/'\n",
    "FFmetadata_path = '/Users/andres/Documents/Flavor Finder data/'\n",
    "\n",
    "\n",
    "\n",
    "# number of reviews to read at a time, you might want it smaller if your computer doesn't have lots of RAM\n",
    "chunk_size = 10000\n",
    "\n",
    "#min review rating to consider\n",
    "min_rating = 3\n",
    "\n",
    "#Lists of columns to be dropped on each database\n",
    "#Original colums are\n",
    "    # reviews: ['user_id', 'name', 'time', 'rating', 'text', 'pics', 'resp', 'gmap_id']\n",
    "    # metadata ['name', 'address', 'gmap_id', 'description', 'latitude', 'longitude',\n",
    "           #'category', 'avg_rating', 'num_of_reviews', 'price', 'hours', 'MISC',\n",
    "           #'state', 'relative_results', 'url']\n",
    "ReviewColumnsToDrop = ['time','pics', 'resp']\n",
    "MetadataColumnsToDrop = ['price', 'hours', 'MISC','state', 'relative_results', 'url']\n",
    "\n",
    "#---------------------------------------------------------------------------------------------------------"
   ]
  },
  {
   "cell_type": "code",
   "execution_count": null,
   "id": "e9863605-6b44-4d8f-b196-0a3d3cebcd70",
   "metadata": {},
   "outputs": [],
   "source": [
    "metadataDF = pd.read_json(metadata_path,lines=True)"
   ]
  },
  {
   "cell_type": "code",
   "execution_count": null,
   "id": "bd1bc07e-1e98-4749-9bd7-ad6dedb8c591",
   "metadata": {},
   "outputs": [],
   "source": [
    "#dropping metada rows that do not correspond to restaurants\n",
    "category_to_check = 'restaurant'\n",
    "metadataDF = metadataDF.dropna(subset=['category'])\n",
    "mask = metadataDF['category'].apply(lambda x: any(category_to_check in item for item in x)  )\n",
    "metadataDF= metadataDF[mask]\n",
    "metadataDF.drop(columns = MetadataColumnsToDrop, inplace = True)\n",
    "\n",
    "\n"
   ]
  },
  {
   "cell_type": "code",
   "execution_count": null,
   "id": "b2f520f5-f122-4654-aba2-5471e4dbb4c2",
   "metadata": {},
   "outputs": [],
   "source": [
    "##Reading and cleaning reviews in chunks\n",
    "\n",
    "#List of chunks, to be join as one data frame after processing \n",
    "chunks = []\n",
    "\n",
    "# Iterate over the JSON file in chunks\n",
    "for chunk in pd.read_json(reviews_path, lines=True, chunksize=chunk_size):\n",
    "    \n",
    "    #dropping columns that won't be used\n",
    "    chunk.drop(columns = ReviewColumnsToDrop, inplace = True)\n",
    "    \n",
    "    #dropping reviews with rating < min_rating\n",
    "    mask = chunk.rating >= min_rating\n",
    "    chunk = chunk[mask]\n",
    "\n",
    "    #dropping reviews with no text\n",
    "    chunk = chunk.dropna(subset=['text'])\n",
    "\n",
    "    #filtering reviews of restaurants\n",
    "    chunk = chunk[chunk['gmap_id'].isin(metadata_df['gmap_id'])]\n",
    "    \n",
    "    #adding the cleaned data to the list of chunks\n",
    "    chunks.append(chunk)\n",
    "    "
   ]
  },
  {
   "cell_type": "code",
   "execution_count": null,
   "id": "3623ed47-0fd4-416d-a2d8-071bbb7bf01a",
   "metadata": {},
   "outputs": [],
   "source": [
    "reviewsDF = pd.concat(chunks, ignore_index=True)"
   ]
  },
  {
   "cell_type": "code",
   "execution_count": null,
   "id": "a666b3d2-df80-426a-8cf4-87382a308c84",
   "metadata": {},
   "outputs": [],
   "source": [
    "\n",
    "metadataDF.to_json(FFreviews_path + 'restMetadata.json', orient='records', lines=True)\n",
    "reviewsDF.to_json(FFreviews_path + 'restReviews.json', orient='records', lines=True)"
   ]
  },
  {
   "cell_type": "code",
   "execution_count": null,
   "id": "d34f307a-1746-44ef-88bb-3c227f88319d",
   "metadata": {},
   "outputs": [],
   "source": [
    "#reviewsDF.head()"
   ]
  },
  {
   "cell_type": "code",
   "execution_count": null,
   "id": "75ad9c71-04a6-4bf8-b5b2-b287040be90a",
   "metadata": {},
   "outputs": [],
   "source": []
  }
 ],
 "metadata": {
  "kernelspec": {
   "display_name": "Python 3 (ipykernel)",
   "language": "python",
   "name": "python3"
  },
  "language_info": {
   "codemirror_mode": {
    "name": "ipython",
    "version": 3
   },
   "file_extension": ".py",
   "mimetype": "text/x-python",
   "name": "python",
   "nbconvert_exporter": "python",
   "pygments_lexer": "ipython3",
   "version": "3.11.7"
  }
 },
 "nbformat": 4,
 "nbformat_minor": 5
}

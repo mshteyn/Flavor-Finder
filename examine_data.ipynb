{
 "cells": [
  {
   "cell_type": "code",
   "execution_count": 19,
   "metadata": {},
   "outputs": [
    {
     "name": "stdout",
     "output_type": "stream",
     "text": [
      "Index(['name', 'address', 'gmap_id', 'description', 'latitude', 'longitude',\n",
      "       'category', 'avg_rating', 'num_of_reviews', 'price', 'hours', 'MISC',\n",
      "       'state', 'relative_results', 'url'],\n",
      "      dtype='object')\n"
     ]
    },
    {
     "ename": "NameError",
     "evalue": "name 'pdf_meta' is not defined",
     "output_type": "error",
     "traceback": [
      "\u001b[0;31m---------------------------------------------------------------------------\u001b[0m",
      "\u001b[0;31mNameError\u001b[0m                                 Traceback (most recent call last)",
      "Cell \u001b[0;32mIn[19], line 16\u001b[0m\n\u001b[1;32m     14\u001b[0m \u001b[38;5;28;01mif\u001b[39;00m index \u001b[38;5;241m==\u001b[39m \u001b[38;5;28mint\u001b[39m(\u001b[38;5;241m0\u001b[39m):\n\u001b[1;32m     15\u001b[0m     \u001b[38;5;28mprint\u001b[39m(item\u001b[38;5;241m.\u001b[39mcolumns)\n\u001b[0;32m---> 16\u001b[0m df_meta \u001b[38;5;241m=\u001b[39m pd\u001b[38;5;241m.\u001b[39mconcat([\u001b[43mpdf_meta\u001b[49m,item],ignore_index \u001b[38;5;241m=\u001b[39m \u001b[38;5;28;01mTrue\u001b[39;00m)\n\u001b[1;32m     17\u001b[0m \u001b[38;5;28;01mif\u001b[39;00m index \u001b[38;5;241m>\u001b[39m \u001b[38;5;241m1\u001b[39m:\n\u001b[1;32m     18\u001b[0m     \u001b[38;5;28;01mbreak\u001b[39;00m \n",
      "\u001b[0;31mNameError\u001b[0m: name 'pdf_meta' is not defined"
     ]
    }
   ],
   "source": [
    "import pandas as pd \n",
    "reviews_path  = \"reviews_cali_json\"\n",
    "metadata_path = \"metadata_cali_json\"\n",
    "\n",
    "#Specify chunksize parameter\n",
    "\n",
    "SIZE = 10\n",
    "metadata_reader = pd.read_json(metadata_path,orient = \"records\",lines= True,chunksize = SIZE) \n",
    "\n",
    "\n",
    "\n",
    "df_meta = pd.DataFrame() \n",
    "for index,item in enumerate(metadata_reader):\n",
    "    if index == int(0):\n",
    "        print(item.columns)\n",
    "    df_meta = pd.concat([df_meta,item],ignore_index = True)\n",
    "    if index > 1:\n",
    "        break \n",
    "# for chunk in metadata_reader:\n",
    "#     print(chunk)\n",
    "#     if index > 0:\n",
    "#         break \n",
    "#     index += 1\n",
    "\n",
    "fa\n",
    "    \n"
   ]
  },
  {
   "cell_type": "code",
   "execution_count": 8,
   "metadata": {},
   "outputs": [
    {
     "data": {
      "text/plain": [
       "Index(['business', 'user', 'rating', 'timestamp'], dtype='object')"
      ]
     },
     "execution_count": 8,
     "metadata": {},
     "output_type": "execute_result"
    }
   ],
   "source": []
  },
  {
   "cell_type": "code",
   "execution_count": null,
   "metadata": {},
   "outputs": [],
   "source": []
  }
 ],
 "metadata": {
  "kernelspec": {
   "display_name": "erdos_may_2024",
   "language": "python",
   "name": "python3"
  },
  "language_info": {
   "codemirror_mode": {
    "name": "ipython",
    "version": 3
   },
   "file_extension": ".py",
   "mimetype": "text/x-python",
   "name": "python",
   "nbconvert_exporter": "python",
   "pygments_lexer": "ipython3",
   "version": "3.12.3"
  }
 },
 "nbformat": 4,
 "nbformat_minor": 2
}
